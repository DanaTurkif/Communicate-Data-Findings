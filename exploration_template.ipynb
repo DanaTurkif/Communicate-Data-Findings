{
 "cells": [
  {
   "cell_type": "markdown",
   "metadata": {},
   "source": [
    "# ( Ford GoBike system data analysis)\n",
    "## by Dana Alotaibi\n",
    "\n",
    "## Preliminary Wrangling"
   ]
  },
  {
   "cell_type": "markdown",
   "metadata": {},
   "source": [
    "> Ford goBike is a regional public bicycle sharing system in the San Francisco Bay Area, California operated by Motivate in a partnership with the Metropolitan Transportation Commission and the Bay Area Air Quality Management District."
   ]
  },
  {
   "cell_type": "markdown",
   "metadata": {},
   "source": [
    "**Data wrangling**"
   ]
  },
  {
   "cell_type": "markdown",
   "metadata": {},
   "source": [
    "**Gathering data**"
   ]
  },
  {
   "cell_type": "code",
   "execution_count": 252,
   "metadata": {},
   "outputs": [],
   "source": [
    "import pandas as pd\n",
    "import numpy as np \n",
    "import seaborn as sb\n",
    "import matplotlib.pyplot as plt\n",
    "%matplotlib inline"
   ]
  },
  {
   "cell_type": "code",
   "execution_count": 146,
   "metadata": {},
   "outputs": [],
   "source": [
    "df=pd.read_csv('201905-baywheels-tripdata.csv', sep =';')"
   ]
  },
  {
   "cell_type": "code",
   "execution_count": 147,
   "metadata": {},
   "outputs": [
    {
     "data": {
      "text/html": [
       "<div>\n",
       "<style scoped>\n",
       "    .dataframe tbody tr th:only-of-type {\n",
       "        vertical-align: middle;\n",
       "    }\n",
       "\n",
       "    .dataframe tbody tr th {\n",
       "        vertical-align: top;\n",
       "    }\n",
       "\n",
       "    .dataframe thead th {\n",
       "        text-align: right;\n",
       "    }\n",
       "</style>\n",
       "<table border=\"1\" class=\"dataframe\">\n",
       "  <thead>\n",
       "    <tr style=\"text-align: right;\">\n",
       "      <th></th>\n",
       "      <th>duration_sec</th>\n",
       "      <th>start_time</th>\n",
       "      <th>end_time</th>\n",
       "      <th>start_station_id</th>\n",
       "      <th>start_station_name</th>\n",
       "      <th>start_station_latitude</th>\n",
       "      <th>start_station_longitude</th>\n",
       "      <th>end_station_id</th>\n",
       "      <th>end_station_name</th>\n",
       "      <th>end_station_latitude</th>\n",
       "      <th>end_station_longitude</th>\n",
       "      <th>bike_id</th>\n",
       "      <th>user_type</th>\n",
       "      <th>bike_share_for_all_trip</th>\n",
       "    </tr>\n",
       "  </thead>\n",
       "  <tbody>\n",
       "    <tr>\n",
       "      <th>0</th>\n",
       "      <td>48877</td>\n",
       "      <td>2019-05-31 20:34:56.8110</td>\n",
       "      <td>2019-06-01 10:09:34.7960</td>\n",
       "      <td>321.0</td>\n",
       "      <td>5th St at Folsom</td>\n",
       "      <td>37.780146</td>\n",
       "      <td>-122.403071</td>\n",
       "      <td>60.0</td>\n",
       "      <td>8th St at Ringold St</td>\n",
       "      <td>37.774520</td>\n",
       "      <td>-122.409449</td>\n",
       "      <td>1416</td>\n",
       "      <td>Customer</td>\n",
       "      <td>No</td>\n",
       "    </tr>\n",
       "    <tr>\n",
       "      <th>1</th>\n",
       "      <td>47050</td>\n",
       "      <td>2019-05-31 19:43:56.1960</td>\n",
       "      <td>2019-06-01 08:48:06.9190</td>\n",
       "      <td>246.0</td>\n",
       "      <td>Berkeley Civic Center</td>\n",
       "      <td>37.869060</td>\n",
       "      <td>-122.270556</td>\n",
       "      <td>266.0</td>\n",
       "      <td>Parker St at Fulton St</td>\n",
       "      <td>37.862464</td>\n",
       "      <td>-122.264791</td>\n",
       "      <td>1797</td>\n",
       "      <td>Subscriber</td>\n",
       "      <td>No</td>\n",
       "    </tr>\n",
       "    <tr>\n",
       "      <th>2</th>\n",
       "      <td>5912</td>\n",
       "      <td>2019-05-31 23:54:24.0890</td>\n",
       "      <td>2019-06-01 01:32:56.9820</td>\n",
       "      <td>149.0</td>\n",
       "      <td>Emeryville Town Hall</td>\n",
       "      <td>37.831275</td>\n",
       "      <td>-122.285633</td>\n",
       "      <td>149.0</td>\n",
       "      <td>Emeryville Town Hall</td>\n",
       "      <td>37.831275</td>\n",
       "      <td>-122.285633</td>\n",
       "      <td>3612</td>\n",
       "      <td>Customer</td>\n",
       "      <td>No</td>\n",
       "    </tr>\n",
       "    <tr>\n",
       "      <th>3</th>\n",
       "      <td>2629</td>\n",
       "      <td>2019-05-31 23:59:57.4490</td>\n",
       "      <td>2019-06-01 00:43:46.8740</td>\n",
       "      <td>186.0</td>\n",
       "      <td>Lakeside Dr at 14th St</td>\n",
       "      <td>37.801319</td>\n",
       "      <td>-122.262642</td>\n",
       "      <td>186.0</td>\n",
       "      <td>Lakeside Dr at 14th St</td>\n",
       "      <td>37.801319</td>\n",
       "      <td>-122.262642</td>\n",
       "      <td>2333</td>\n",
       "      <td>Customer</td>\n",
       "      <td>No</td>\n",
       "    </tr>\n",
       "    <tr>\n",
       "      <th>4</th>\n",
       "      <td>4235</td>\n",
       "      <td>2019-05-31 23:05:48.9320</td>\n",
       "      <td>2019-06-01 00:16:24.4570</td>\n",
       "      <td>34.0</td>\n",
       "      <td>Father Alfred E Boeddeker Park</td>\n",
       "      <td>37.783988</td>\n",
       "      <td>-122.412408</td>\n",
       "      <td>368.0</td>\n",
       "      <td>Myrtle St at Polk St</td>\n",
       "      <td>37.785434</td>\n",
       "      <td>-122.419622</td>\n",
       "      <td>181</td>\n",
       "      <td>Subscriber</td>\n",
       "      <td>No</td>\n",
       "    </tr>\n",
       "  </tbody>\n",
       "</table>\n",
       "</div>"
      ],
      "text/plain": [
       "   duration_sec                start_time                  end_time  \\\n",
       "0         48877  2019-05-31 20:34:56.8110  2019-06-01 10:09:34.7960   \n",
       "1         47050  2019-05-31 19:43:56.1960  2019-06-01 08:48:06.9190   \n",
       "2          5912  2019-05-31 23:54:24.0890  2019-06-01 01:32:56.9820   \n",
       "3          2629  2019-05-31 23:59:57.4490  2019-06-01 00:43:46.8740   \n",
       "4          4235  2019-05-31 23:05:48.9320  2019-06-01 00:16:24.4570   \n",
       "\n",
       "   start_station_id              start_station_name  start_station_latitude  \\\n",
       "0             321.0                5th St at Folsom               37.780146   \n",
       "1             246.0           Berkeley Civic Center               37.869060   \n",
       "2             149.0            Emeryville Town Hall               37.831275   \n",
       "3             186.0          Lakeside Dr at 14th St               37.801319   \n",
       "4              34.0  Father Alfred E Boeddeker Park               37.783988   \n",
       "\n",
       "   start_station_longitude  end_station_id        end_station_name  \\\n",
       "0              -122.403071            60.0    8th St at Ringold St   \n",
       "1              -122.270556           266.0  Parker St at Fulton St   \n",
       "2              -122.285633           149.0    Emeryville Town Hall   \n",
       "3              -122.262642           186.0  Lakeside Dr at 14th St   \n",
       "4              -122.412408           368.0    Myrtle St at Polk St   \n",
       "\n",
       "   end_station_latitude  end_station_longitude  bike_id   user_type  \\\n",
       "0             37.774520            -122.409449     1416    Customer   \n",
       "1             37.862464            -122.264791     1797  Subscriber   \n",
       "2             37.831275            -122.285633     3612    Customer   \n",
       "3             37.801319            -122.262642     2333    Customer   \n",
       "4             37.785434            -122.419622      181  Subscriber   \n",
       "\n",
       "  bike_share_for_all_trip  \n",
       "0                      No  \n",
       "1                      No  \n",
       "2                      No  \n",
       "3                      No  \n",
       "4                      No  "
      ]
     },
     "execution_count": 147,
     "metadata": {},
     "output_type": "execute_result"
    }
   ],
   "source": [
    "df.head()"
   ]
  },
  {
   "cell_type": "markdown",
   "metadata": {},
   "source": [
    "# Assessing data\n"
   ]
  },
  {
   "cell_type": "code",
   "execution_count": 148,
   "metadata": {},
   "outputs": [
    {
     "name": "stdout",
     "output_type": "stream",
     "text": [
      "<class 'pandas.core.frame.DataFrame'>\n",
      "RangeIndex: 182163 entries, 0 to 182162\n",
      "Data columns (total 14 columns):\n",
      "duration_sec               182163 non-null int64\n",
      "start_time                 182163 non-null object\n",
      "end_time                   182163 non-null object\n",
      "start_station_id           182148 non-null float64\n",
      "start_station_name         182148 non-null object\n",
      "start_station_latitude     182163 non-null float64\n",
      "start_station_longitude    182163 non-null float64\n",
      "end_station_id             182148 non-null float64\n",
      "end_station_name           182148 non-null object\n",
      "end_station_latitude       182163 non-null float64\n",
      "end_station_longitude      182163 non-null float64\n",
      "bike_id                    182163 non-null int64\n",
      "user_type                  182163 non-null object\n",
      "bike_share_for_all_trip    182163 non-null object\n",
      "dtypes: float64(6), int64(2), object(6)\n",
      "memory usage: 19.5+ MB\n"
     ]
    }
   ],
   "source": [
    "df.info()"
   ]
  },
  {
   "cell_type": "code",
   "execution_count": 149,
   "metadata": {},
   "outputs": [
    {
     "data": {
      "text/html": [
       "<div>\n",
       "<style scoped>\n",
       "    .dataframe tbody tr th:only-of-type {\n",
       "        vertical-align: middle;\n",
       "    }\n",
       "\n",
       "    .dataframe tbody tr th {\n",
       "        vertical-align: top;\n",
       "    }\n",
       "\n",
       "    .dataframe thead th {\n",
       "        text-align: right;\n",
       "    }\n",
       "</style>\n",
       "<table border=\"1\" class=\"dataframe\">\n",
       "  <thead>\n",
       "    <tr style=\"text-align: right;\">\n",
       "      <th></th>\n",
       "      <th>duration_sec</th>\n",
       "      <th>start_station_id</th>\n",
       "      <th>start_station_latitude</th>\n",
       "      <th>start_station_longitude</th>\n",
       "      <th>end_station_id</th>\n",
       "      <th>end_station_latitude</th>\n",
       "      <th>end_station_longitude</th>\n",
       "      <th>bike_id</th>\n",
       "    </tr>\n",
       "  </thead>\n",
       "  <tbody>\n",
       "    <tr>\n",
       "      <th>count</th>\n",
       "      <td>182163.000000</td>\n",
       "      <td>182148.000000</td>\n",
       "      <td>182163.000000</td>\n",
       "      <td>182163.000000</td>\n",
       "      <td>182148.000000</td>\n",
       "      <td>182163.000000</td>\n",
       "      <td>182163.000000</td>\n",
       "      <td>182163.000000</td>\n",
       "    </tr>\n",
       "    <tr>\n",
       "      <th>mean</th>\n",
       "      <td>792.261744</td>\n",
       "      <td>141.369480</td>\n",
       "      <td>37.763583</td>\n",
       "      <td>-122.346701</td>\n",
       "      <td>139.308118</td>\n",
       "      <td>37.763770</td>\n",
       "      <td>-122.345875</td>\n",
       "      <td>1964.698753</td>\n",
       "    </tr>\n",
       "    <tr>\n",
       "      <th>std</th>\n",
       "      <td>1824.190023</td>\n",
       "      <td>117.435373</td>\n",
       "      <td>0.112150</td>\n",
       "      <td>0.129110</td>\n",
       "      <td>117.210619</td>\n",
       "      <td>0.111985</td>\n",
       "      <td>0.128349</td>\n",
       "      <td>1136.197266</td>\n",
       "    </tr>\n",
       "    <tr>\n",
       "      <th>min</th>\n",
       "      <td>61.000000</td>\n",
       "      <td>3.000000</td>\n",
       "      <td>37.311284</td>\n",
       "      <td>-122.453704</td>\n",
       "      <td>3.000000</td>\n",
       "      <td>37.311284</td>\n",
       "      <td>-122.453704</td>\n",
       "      <td>12.000000</td>\n",
       "    </tr>\n",
       "    <tr>\n",
       "      <th>25%</th>\n",
       "      <td>357.000000</td>\n",
       "      <td>44.000000</td>\n",
       "      <td>37.770030</td>\n",
       "      <td>-122.411738</td>\n",
       "      <td>42.000000</td>\n",
       "      <td>37.770407</td>\n",
       "      <td>-122.410662</td>\n",
       "      <td>1025.000000</td>\n",
       "    </tr>\n",
       "    <tr>\n",
       "      <th>50%</th>\n",
       "      <td>568.000000</td>\n",
       "      <td>101.000000</td>\n",
       "      <td>37.780526</td>\n",
       "      <td>-122.397437</td>\n",
       "      <td>98.000000</td>\n",
       "      <td>37.780955</td>\n",
       "      <td>-122.396906</td>\n",
       "      <td>1930.000000</td>\n",
       "    </tr>\n",
       "    <tr>\n",
       "      <th>75%</th>\n",
       "      <td>882.000000</td>\n",
       "      <td>240.000000</td>\n",
       "      <td>37.796248</td>\n",
       "      <td>-122.285171</td>\n",
       "      <td>238.000000</td>\n",
       "      <td>37.797280</td>\n",
       "      <td>-122.288665</td>\n",
       "      <td>2977.000000</td>\n",
       "    </tr>\n",
       "    <tr>\n",
       "      <th>max</th>\n",
       "      <td>84967.000000</td>\n",
       "      <td>427.000000</td>\n",
       "      <td>37.880222</td>\n",
       "      <td>-121.870099</td>\n",
       "      <td>427.000000</td>\n",
       "      <td>37.880222</td>\n",
       "      <td>-121.870099</td>\n",
       "      <td>7196.000000</td>\n",
       "    </tr>\n",
       "  </tbody>\n",
       "</table>\n",
       "</div>"
      ],
      "text/plain": [
       "        duration_sec  start_station_id  start_station_latitude  \\\n",
       "count  182163.000000     182148.000000           182163.000000   \n",
       "mean      792.261744        141.369480               37.763583   \n",
       "std      1824.190023        117.435373                0.112150   \n",
       "min        61.000000          3.000000               37.311284   \n",
       "25%       357.000000         44.000000               37.770030   \n",
       "50%       568.000000        101.000000               37.780526   \n",
       "75%       882.000000        240.000000               37.796248   \n",
       "max     84967.000000        427.000000               37.880222   \n",
       "\n",
       "       start_station_longitude  end_station_id  end_station_latitude  \\\n",
       "count            182163.000000   182148.000000         182163.000000   \n",
       "mean               -122.346701      139.308118             37.763770   \n",
       "std                   0.129110      117.210619              0.111985   \n",
       "min                -122.453704        3.000000             37.311284   \n",
       "25%                -122.411738       42.000000             37.770407   \n",
       "50%                -122.397437       98.000000             37.780955   \n",
       "75%                -122.285171      238.000000             37.797280   \n",
       "max                -121.870099      427.000000             37.880222   \n",
       "\n",
       "       end_station_longitude        bike_id  \n",
       "count          182163.000000  182163.000000  \n",
       "mean             -122.345875    1964.698753  \n",
       "std                 0.128349    1136.197266  \n",
       "min              -122.453704      12.000000  \n",
       "25%              -122.410662    1025.000000  \n",
       "50%              -122.396906    1930.000000  \n",
       "75%              -122.288665    2977.000000  \n",
       "max              -121.870099    7196.000000  "
      ]
     },
     "execution_count": 149,
     "metadata": {},
     "output_type": "execute_result"
    }
   ],
   "source": [
    "df.describe()"
   ]
  },
  {
   "cell_type": "code",
   "execution_count": 150,
   "metadata": {},
   "outputs": [
    {
     "data": {
      "text/plain": [
       "duration_sec                0\n",
       "start_time                  0\n",
       "end_time                    0\n",
       "start_station_id           15\n",
       "start_station_name         15\n",
       "start_station_latitude      0\n",
       "start_station_longitude     0\n",
       "end_station_id             15\n",
       "end_station_name           15\n",
       "end_station_latitude        0\n",
       "end_station_longitude       0\n",
       "bike_id                     0\n",
       "user_type                   0\n",
       "bike_share_for_all_trip     0\n",
       "dtype: int64"
      ]
     },
     "execution_count": 150,
     "metadata": {},
     "output_type": "execute_result"
    }
   ],
   "source": [
    "df.isnull().sum()"
   ]
  },
  {
   "cell_type": "markdown",
   "metadata": {},
   "source": [
    "# cleaning data "
   ]
  },
  {
   "cell_type": "markdown",
   "metadata": {},
   "source": [
    "**Define**\n",
    "\n",
    "delete null values of start_station_id and the rest"
   ]
  },
  {
   "cell_type": "markdown",
   "metadata": {},
   "source": [
    "**Code**"
   ]
  },
  {
   "cell_type": "code",
   "execution_count": 151,
   "metadata": {},
   "outputs": [
    {
     "name": "stdout",
     "output_type": "stream",
     "text": [
      "<class 'pandas.core.frame.DataFrame'>\n",
      "Int64Index: 182148 entries, 0 to 182162\n",
      "Data columns (total 14 columns):\n",
      "duration_sec               182148 non-null int64\n",
      "start_time                 182148 non-null object\n",
      "end_time                   182148 non-null object\n",
      "start_station_id           182148 non-null float64\n",
      "start_station_name         182148 non-null object\n",
      "start_station_latitude     182148 non-null float64\n",
      "start_station_longitude    182148 non-null float64\n",
      "end_station_id             182148 non-null float64\n",
      "end_station_name           182148 non-null object\n",
      "end_station_latitude       182148 non-null float64\n",
      "end_station_longitude      182148 non-null float64\n",
      "bike_id                    182148 non-null int64\n",
      "user_type                  182148 non-null object\n",
      "bike_share_for_all_trip    182148 non-null object\n",
      "dtypes: float64(6), int64(2), object(6)\n",
      "memory usage: 20.8+ MB\n"
     ]
    }
   ],
   "source": [
    "df_clean = df[df['start_station_id'].isnull() == False]\n",
    "df_clean.info()"
   ]
  },
  {
   "cell_type": "markdown",
   "metadata": {},
   "source": [
    "**Test**"
   ]
  },
  {
   "cell_type": "code",
   "execution_count": 152,
   "metadata": {},
   "outputs": [
    {
     "data": {
      "text/plain": [
       "duration_sec               0\n",
       "start_time                 0\n",
       "end_time                   0\n",
       "start_station_id           0\n",
       "start_station_name         0\n",
       "start_station_latitude     0\n",
       "start_station_longitude    0\n",
       "end_station_id             0\n",
       "end_station_name           0\n",
       "end_station_latitude       0\n",
       "end_station_longitude      0\n",
       "bike_id                    0\n",
       "user_type                  0\n",
       "bike_share_for_all_trip    0\n",
       "dtype: int64"
      ]
     },
     "execution_count": 152,
     "metadata": {},
     "output_type": "execute_result"
    }
   ],
   "source": [
    "df_clean.isnull().sum()"
   ]
  },
  {
   "cell_type": "markdown",
   "metadata": {},
   "source": [
    "**Define** \n",
    "\n",
    "change the datatype to datetime"
   ]
  },
  {
   "cell_type": "markdown",
   "metadata": {},
   "source": [
    "**Code**"
   ]
  },
  {
   "cell_type": "code",
   "execution_count": 153,
   "metadata": {},
   "outputs": [
    {
     "name": "stderr",
     "output_type": "stream",
     "text": [
      "//anaconda3/lib/python3.7/site-packages/pandas/core/generic.py:5096: SettingWithCopyWarning: \n",
      "A value is trying to be set on a copy of a slice from a DataFrame.\n",
      "Try using .loc[row_indexer,col_indexer] = value instead\n",
      "\n",
      "See the caveats in the documentation: http://pandas.pydata.org/pandas-docs/stable/indexing.html#indexing-view-versus-copy\n",
      "  self[name] = value\n"
     ]
    }
   ],
   "source": [
    "df_clean.start_time = pd.to_datetime(df_clean.start_time)\n",
    "df_clean.end_time = pd.to_datetime(df_clean.end_time)"
   ]
  },
  {
   "cell_type": "markdown",
   "metadata": {},
   "source": [
    "**Test**\n"
   ]
  },
  {
   "cell_type": "code",
   "execution_count": 154,
   "metadata": {},
   "outputs": [
    {
     "name": "stdout",
     "output_type": "stream",
     "text": [
      "<class 'pandas.core.frame.DataFrame'>\n",
      "Int64Index: 182148 entries, 0 to 182162\n",
      "Data columns (total 14 columns):\n",
      "duration_sec               182148 non-null int64\n",
      "start_time                 182148 non-null datetime64[ns]\n",
      "end_time                   182148 non-null datetime64[ns]\n",
      "start_station_id           182148 non-null float64\n",
      "start_station_name         182148 non-null object\n",
      "start_station_latitude     182148 non-null float64\n",
      "start_station_longitude    182148 non-null float64\n",
      "end_station_id             182148 non-null float64\n",
      "end_station_name           182148 non-null object\n",
      "end_station_latitude       182148 non-null float64\n",
      "end_station_longitude      182148 non-null float64\n",
      "bike_id                    182148 non-null int64\n",
      "user_type                  182148 non-null object\n",
      "bike_share_for_all_trip    182148 non-null object\n",
      "dtypes: datetime64[ns](2), float64(6), int64(2), object(4)\n",
      "memory usage: 20.8+ MB\n"
     ]
    }
   ],
   "source": [
    "df_clean.info()"
   ]
  },
  {
   "cell_type": "code",
   "execution_count": 155,
   "metadata": {},
   "outputs": [
    {
     "data": {
      "text/plain": [
       "(182148, 14)"
      ]
     },
     "execution_count": 155,
     "metadata": {},
     "output_type": "execute_result"
    }
   ],
   "source": [
    "df_clean.shape"
   ]
  },
  {
   "cell_type": "code",
   "execution_count": 156,
   "metadata": {},
   "outputs": [
    {
     "data": {
      "text/plain": [
       "0"
      ]
     },
     "execution_count": 156,
     "metadata": {},
     "output_type": "execute_result"
    }
   ],
   "source": [
    "df_clean.duplicated().sum()"
   ]
  },
  {
   "cell_type": "markdown",
   "metadata": {},
   "source": [
    "**Define** \n",
    "\n",
    "change user_type and bike_share_for_all_trip to category"
   ]
  },
  {
   "cell_type": "markdown",
   "metadata": {},
   "source": [
    "**Code**"
   ]
  },
  {
   "cell_type": "code",
   "execution_count": 157,
   "metadata": {},
   "outputs": [],
   "source": [
    "df_clean.user_type = df_clean.user_type.astype('category')\n",
    "df_clean.bike_share_for_all_trip = df_clean.bike_share_for_all_trip.astype('category')"
   ]
  },
  {
   "cell_type": "markdown",
   "metadata": {},
   "source": [
    "**Test**"
   ]
  },
  {
   "cell_type": "code",
   "execution_count": 158,
   "metadata": {},
   "outputs": [
    {
     "name": "stdout",
     "output_type": "stream",
     "text": [
      "<class 'pandas.core.frame.DataFrame'>\n",
      "Int64Index: 182148 entries, 0 to 182162\n",
      "Data columns (total 14 columns):\n",
      "duration_sec               182148 non-null int64\n",
      "start_time                 182148 non-null datetime64[ns]\n",
      "end_time                   182148 non-null datetime64[ns]\n",
      "start_station_id           182148 non-null float64\n",
      "start_station_name         182148 non-null object\n",
      "start_station_latitude     182148 non-null float64\n",
      "start_station_longitude    182148 non-null float64\n",
      "end_station_id             182148 non-null float64\n",
      "end_station_name           182148 non-null object\n",
      "end_station_latitude       182148 non-null float64\n",
      "end_station_longitude      182148 non-null float64\n",
      "bike_id                    182148 non-null int64\n",
      "user_type                  182148 non-null category\n",
      "bike_share_for_all_trip    182148 non-null category\n",
      "dtypes: category(2), datetime64[ns](2), float64(6), int64(2), object(2)\n",
      "memory usage: 18.4+ MB\n"
     ]
    }
   ],
   "source": [
    "df_clean.info()"
   ]
  },
  {
   "cell_type": "code",
   "execution_count": 159,
   "metadata": {},
   "outputs": [
    {
     "data": {
      "text/html": [
       "<div>\n",
       "<style scoped>\n",
       "    .dataframe tbody tr th:only-of-type {\n",
       "        vertical-align: middle;\n",
       "    }\n",
       "\n",
       "    .dataframe tbody tr th {\n",
       "        vertical-align: top;\n",
       "    }\n",
       "\n",
       "    .dataframe thead th {\n",
       "        text-align: right;\n",
       "    }\n",
       "</style>\n",
       "<table border=\"1\" class=\"dataframe\">\n",
       "  <thead>\n",
       "    <tr style=\"text-align: right;\">\n",
       "      <th></th>\n",
       "      <th>duration_sec</th>\n",
       "      <th>start_time</th>\n",
       "      <th>end_time</th>\n",
       "      <th>start_station_id</th>\n",
       "      <th>start_station_name</th>\n",
       "      <th>start_station_latitude</th>\n",
       "      <th>start_station_longitude</th>\n",
       "      <th>end_station_id</th>\n",
       "      <th>end_station_name</th>\n",
       "      <th>end_station_latitude</th>\n",
       "      <th>end_station_longitude</th>\n",
       "      <th>bike_id</th>\n",
       "      <th>user_type</th>\n",
       "      <th>bike_share_for_all_trip</th>\n",
       "    </tr>\n",
       "  </thead>\n",
       "  <tbody>\n",
       "    <tr>\n",
       "      <th>0</th>\n",
       "      <td>48877</td>\n",
       "      <td>2019-05-31 20:34:56.811</td>\n",
       "      <td>2019-06-01 10:09:34.796</td>\n",
       "      <td>321.0</td>\n",
       "      <td>5th St at Folsom</td>\n",
       "      <td>37.780146</td>\n",
       "      <td>-122.403071</td>\n",
       "      <td>60.0</td>\n",
       "      <td>8th St at Ringold St</td>\n",
       "      <td>37.774520</td>\n",
       "      <td>-122.409449</td>\n",
       "      <td>1416</td>\n",
       "      <td>Customer</td>\n",
       "      <td>No</td>\n",
       "    </tr>\n",
       "    <tr>\n",
       "      <th>1</th>\n",
       "      <td>47050</td>\n",
       "      <td>2019-05-31 19:43:56.196</td>\n",
       "      <td>2019-06-01 08:48:06.919</td>\n",
       "      <td>246.0</td>\n",
       "      <td>Berkeley Civic Center</td>\n",
       "      <td>37.869060</td>\n",
       "      <td>-122.270556</td>\n",
       "      <td>266.0</td>\n",
       "      <td>Parker St at Fulton St</td>\n",
       "      <td>37.862464</td>\n",
       "      <td>-122.264791</td>\n",
       "      <td>1797</td>\n",
       "      <td>Subscriber</td>\n",
       "      <td>No</td>\n",
       "    </tr>\n",
       "    <tr>\n",
       "      <th>2</th>\n",
       "      <td>5912</td>\n",
       "      <td>2019-05-31 23:54:24.089</td>\n",
       "      <td>2019-06-01 01:32:56.982</td>\n",
       "      <td>149.0</td>\n",
       "      <td>Emeryville Town Hall</td>\n",
       "      <td>37.831275</td>\n",
       "      <td>-122.285633</td>\n",
       "      <td>149.0</td>\n",
       "      <td>Emeryville Town Hall</td>\n",
       "      <td>37.831275</td>\n",
       "      <td>-122.285633</td>\n",
       "      <td>3612</td>\n",
       "      <td>Customer</td>\n",
       "      <td>No</td>\n",
       "    </tr>\n",
       "    <tr>\n",
       "      <th>3</th>\n",
       "      <td>2629</td>\n",
       "      <td>2019-05-31 23:59:57.449</td>\n",
       "      <td>2019-06-01 00:43:46.874</td>\n",
       "      <td>186.0</td>\n",
       "      <td>Lakeside Dr at 14th St</td>\n",
       "      <td>37.801319</td>\n",
       "      <td>-122.262642</td>\n",
       "      <td>186.0</td>\n",
       "      <td>Lakeside Dr at 14th St</td>\n",
       "      <td>37.801319</td>\n",
       "      <td>-122.262642</td>\n",
       "      <td>2333</td>\n",
       "      <td>Customer</td>\n",
       "      <td>No</td>\n",
       "    </tr>\n",
       "    <tr>\n",
       "      <th>4</th>\n",
       "      <td>4235</td>\n",
       "      <td>2019-05-31 23:05:48.932</td>\n",
       "      <td>2019-06-01 00:16:24.457</td>\n",
       "      <td>34.0</td>\n",
       "      <td>Father Alfred E Boeddeker Park</td>\n",
       "      <td>37.783988</td>\n",
       "      <td>-122.412408</td>\n",
       "      <td>368.0</td>\n",
       "      <td>Myrtle St at Polk St</td>\n",
       "      <td>37.785434</td>\n",
       "      <td>-122.419622</td>\n",
       "      <td>181</td>\n",
       "      <td>Subscriber</td>\n",
       "      <td>No</td>\n",
       "    </tr>\n",
       "  </tbody>\n",
       "</table>\n",
       "</div>"
      ],
      "text/plain": [
       "   duration_sec              start_time                end_time  \\\n",
       "0         48877 2019-05-31 20:34:56.811 2019-06-01 10:09:34.796   \n",
       "1         47050 2019-05-31 19:43:56.196 2019-06-01 08:48:06.919   \n",
       "2          5912 2019-05-31 23:54:24.089 2019-06-01 01:32:56.982   \n",
       "3          2629 2019-05-31 23:59:57.449 2019-06-01 00:43:46.874   \n",
       "4          4235 2019-05-31 23:05:48.932 2019-06-01 00:16:24.457   \n",
       "\n",
       "   start_station_id              start_station_name  start_station_latitude  \\\n",
       "0             321.0                5th St at Folsom               37.780146   \n",
       "1             246.0           Berkeley Civic Center               37.869060   \n",
       "2             149.0            Emeryville Town Hall               37.831275   \n",
       "3             186.0          Lakeside Dr at 14th St               37.801319   \n",
       "4              34.0  Father Alfred E Boeddeker Park               37.783988   \n",
       "\n",
       "   start_station_longitude  end_station_id        end_station_name  \\\n",
       "0              -122.403071            60.0    8th St at Ringold St   \n",
       "1              -122.270556           266.0  Parker St at Fulton St   \n",
       "2              -122.285633           149.0    Emeryville Town Hall   \n",
       "3              -122.262642           186.0  Lakeside Dr at 14th St   \n",
       "4              -122.412408           368.0    Myrtle St at Polk St   \n",
       "\n",
       "   end_station_latitude  end_station_longitude  bike_id   user_type  \\\n",
       "0             37.774520            -122.409449     1416    Customer   \n",
       "1             37.862464            -122.264791     1797  Subscriber   \n",
       "2             37.831275            -122.285633     3612    Customer   \n",
       "3             37.801319            -122.262642     2333    Customer   \n",
       "4             37.785434            -122.419622      181  Subscriber   \n",
       "\n",
       "  bike_share_for_all_trip  \n",
       "0                      No  \n",
       "1                      No  \n",
       "2                      No  \n",
       "3                      No  \n",
       "4                      No  "
      ]
     },
     "execution_count": 159,
     "metadata": {},
     "output_type": "execute_result"
    }
   ],
   "source": [
    "df_clean.head()"
   ]
  },
  {
   "cell_type": "markdown",
   "metadata": {},
   "source": [
    "**Define more features to observe**"
   ]
  },
  {
   "cell_type": "markdown",
   "metadata": {},
   "source": [
    "**Code**"
   ]
  },
  {
   "cell_type": "code",
   "execution_count": 160,
   "metadata": {},
   "outputs": [
    {
     "name": "stderr",
     "output_type": "stream",
     "text": [
      "//anaconda3/lib/python3.7/site-packages/ipykernel_launcher.py:1: SettingWithCopyWarning: \n",
      "A value is trying to be set on a copy of a slice from a DataFrame.\n",
      "Try using .loc[row_indexer,col_indexer] = value instead\n",
      "\n",
      "See the caveats in the documentation: http://pandas.pydata.org/pandas-docs/stable/indexing.html#indexing-view-versus-copy\n",
      "  \"\"\"Entry point for launching an IPython kernel.\n"
     ]
    }
   ],
   "source": [
    "df_clean['end_time_hour']=df_clean['end_time'].dt.hour"
   ]
  },
  {
   "cell_type": "code",
   "execution_count": 161,
   "metadata": {},
   "outputs": [
    {
     "name": "stderr",
     "output_type": "stream",
     "text": [
      "//anaconda3/lib/python3.7/site-packages/ipykernel_launcher.py:1: SettingWithCopyWarning: \n",
      "A value is trying to be set on a copy of a slice from a DataFrame.\n",
      "Try using .loc[row_indexer,col_indexer] = value instead\n",
      "\n",
      "See the caveats in the documentation: http://pandas.pydata.org/pandas-docs/stable/indexing.html#indexing-view-versus-copy\n",
      "  \"\"\"Entry point for launching an IPython kernel.\n"
     ]
    }
   ],
   "source": [
    "df_clean['end_time_day']=df_clean['end_time'].dt.day.astype(int)"
   ]
  },
  {
   "cell_type": "code",
   "execution_count": null,
   "metadata": {},
   "outputs": [],
   "source": []
  },
  {
   "cell_type": "code",
   "execution_count": 162,
   "metadata": {},
   "outputs": [
    {
     "name": "stderr",
     "output_type": "stream",
     "text": [
      "//anaconda3/lib/python3.7/site-packages/ipykernel_launcher.py:1: SettingWithCopyWarning: \n",
      "A value is trying to be set on a copy of a slice from a DataFrame.\n",
      "Try using .loc[row_indexer,col_indexer] = value instead\n",
      "\n",
      "See the caveats in the documentation: http://pandas.pydata.org/pandas-docs/stable/indexing.html#indexing-view-versus-copy\n",
      "  \"\"\"Entry point for launching an IPython kernel.\n"
     ]
    }
   ],
   "source": [
    "df_clean['start_time_hour']=df_clean['start_time'].dt.hour"
   ]
  },
  {
   "cell_type": "code",
   "execution_count": 163,
   "metadata": {},
   "outputs": [
    {
     "name": "stderr",
     "output_type": "stream",
     "text": [
      "//anaconda3/lib/python3.7/site-packages/ipykernel_launcher.py:1: SettingWithCopyWarning: \n",
      "A value is trying to be set on a copy of a slice from a DataFrame.\n",
      "Try using .loc[row_indexer,col_indexer] = value instead\n",
      "\n",
      "See the caveats in the documentation: http://pandas.pydata.org/pandas-docs/stable/indexing.html#indexing-view-versus-copy\n",
      "  \"\"\"Entry point for launching an IPython kernel.\n"
     ]
    }
   ],
   "source": [
    "df_clean['start_time_day']=df_clean['start_time'].dt.day.astype(int)"
   ]
  },
  {
   "cell_type": "code",
   "execution_count": 164,
   "metadata": {},
   "outputs": [
    {
     "name": "stderr",
     "output_type": "stream",
     "text": [
      "//anaconda3/lib/python3.7/site-packages/ipykernel_launcher.py:1: SettingWithCopyWarning: \n",
      "A value is trying to be set on a copy of a slice from a DataFrame.\n",
      "Try using .loc[row_indexer,col_indexer] = value instead\n",
      "\n",
      "See the caveats in the documentation: http://pandas.pydata.org/pandas-docs/stable/indexing.html#indexing-view-versus-copy\n",
      "  \"\"\"Entry point for launching an IPython kernel.\n"
     ]
    }
   ],
   "source": [
    "df_clean['start_time_weekday']=df_clean['start_time'].dt.strftime('%a')"
   ]
  },
  {
   "cell_type": "code",
   "execution_count": 198,
   "metadata": {},
   "outputs": [],
   "source": [
    "import math\n",
    "from math import radians, sin, cos, acos\n",
    "\n",
    "def distance(origin, destination):\n",
    "\n",
    "    lat1, long1 = origin\n",
    "    lat2, long2 = destination\n",
    "    radius = 6371\n",
    "    # this is in kilometers - will convert to US units of miles after\n",
    "\n",
    "    dlat = math.radians(lat2 - lat1)\n",
    "    dlong = math.radians(long2 - long1)\n",
    "    \n",
    "    a = (math.sin(dlat / 2) * math.sin(dlat / 2) + math.cos(math.radians(lat1)) * math.cos(math.radians(lat2)) * math.sin(dlong / 2) * math.sin(dlong / 2))\n",
    "    c = 2 * math.atan2(math.sqrt(a), math.sqrt(1 - a))\n",
    "    d = radius * c\n",
    "\n",
    "    return d"
   ]
  },
  {
   "cell_type": "code",
   "execution_count": 199,
   "metadata": {},
   "outputs": [
    {
     "name": "stderr",
     "output_type": "stream",
     "text": [
      "//anaconda3/lib/python3.7/site-packages/ipykernel_launcher.py:1: SettingWithCopyWarning: \n",
      "A value is trying to be set on a copy of a slice from a DataFrame.\n",
      "Try using .loc[row_indexer,col_indexer] = value instead\n",
      "\n",
      "See the caveats in the documentation: http://pandas.pydata.org/pandas-docs/stable/indexing.html#indexing-view-versus-copy\n",
      "  \"\"\"Entry point for launching an IPython kernel.\n"
     ]
    }
   ],
   "source": [
    "df_clean['distance_km'] = df_clean.apply(lambda x: distance((x['start_station_latitude'], x['start_station_longitude']), (x['end_station_latitude'], x['end_station_longitude'])), axis=1)\n",
    "\n"
   ]
  },
  {
   "cell_type": "code",
   "execution_count": 203,
   "metadata": {},
   "outputs": [
    {
     "name": "stderr",
     "output_type": "stream",
     "text": [
      "//anaconda3/lib/python3.7/site-packages/ipykernel_launcher.py:1: SettingWithCopyWarning: \n",
      "A value is trying to be set on a copy of a slice from a DataFrame.\n",
      "Try using .loc[row_indexer,col_indexer] = value instead\n",
      "\n",
      "See the caveats in the documentation: http://pandas.pydata.org/pandas-docs/stable/indexing.html#indexing-view-versus-copy\n",
      "  \"\"\"Entry point for launching an IPython kernel.\n"
     ]
    }
   ],
   "source": [
    "df_clean['distance_miles'] = df_clean['distance_km'] * 0.621371"
   ]
  },
  {
   "cell_type": "markdown",
   "metadata": {},
   "source": [
    "**Test**"
   ]
  },
  {
   "cell_type": "code",
   "execution_count": 200,
   "metadata": {},
   "outputs": [
    {
     "data": {
      "text/html": [
       "<div>\n",
       "<style scoped>\n",
       "    .dataframe tbody tr th:only-of-type {\n",
       "        vertical-align: middle;\n",
       "    }\n",
       "\n",
       "    .dataframe tbody tr th {\n",
       "        vertical-align: top;\n",
       "    }\n",
       "\n",
       "    .dataframe thead th {\n",
       "        text-align: right;\n",
       "    }\n",
       "</style>\n",
       "<table border=\"1\" class=\"dataframe\">\n",
       "  <thead>\n",
       "    <tr style=\"text-align: right;\">\n",
       "      <th></th>\n",
       "      <th>duration_sec</th>\n",
       "      <th>start_time</th>\n",
       "      <th>end_time</th>\n",
       "      <th>start_station_id</th>\n",
       "      <th>start_station_name</th>\n",
       "      <th>start_station_latitude</th>\n",
       "      <th>start_station_longitude</th>\n",
       "      <th>end_station_id</th>\n",
       "      <th>end_station_name</th>\n",
       "      <th>end_station_latitude</th>\n",
       "      <th>...</th>\n",
       "      <th>bike_id</th>\n",
       "      <th>user_type</th>\n",
       "      <th>bike_share_for_all_trip</th>\n",
       "      <th>end_time_hour</th>\n",
       "      <th>end_time_day</th>\n",
       "      <th>start_time_hour</th>\n",
       "      <th>start_time_day</th>\n",
       "      <th>start_time_weekday</th>\n",
       "      <th>duration_min</th>\n",
       "      <th>distance_km</th>\n",
       "    </tr>\n",
       "  </thead>\n",
       "  <tbody>\n",
       "    <tr>\n",
       "      <th>0</th>\n",
       "      <td>48877</td>\n",
       "      <td>2019-05-31 20:34:56.811</td>\n",
       "      <td>2019-06-01 10:09:34.796</td>\n",
       "      <td>321.0</td>\n",
       "      <td>5th St at Folsom</td>\n",
       "      <td>37.780146</td>\n",
       "      <td>-122.403071</td>\n",
       "      <td>60.0</td>\n",
       "      <td>8th St at Ringold St</td>\n",
       "      <td>37.774520</td>\n",
       "      <td>...</td>\n",
       "      <td>1416</td>\n",
       "      <td>Customer</td>\n",
       "      <td>No</td>\n",
       "      <td>10</td>\n",
       "      <td>1</td>\n",
       "      <td>20</td>\n",
       "      <td>31</td>\n",
       "      <td>Fri</td>\n",
       "      <td>814.616667</td>\n",
       "      <td>0.839955</td>\n",
       "    </tr>\n",
       "    <tr>\n",
       "      <th>1</th>\n",
       "      <td>47050</td>\n",
       "      <td>2019-05-31 19:43:56.196</td>\n",
       "      <td>2019-06-01 08:48:06.919</td>\n",
       "      <td>246.0</td>\n",
       "      <td>Berkeley Civic Center</td>\n",
       "      <td>37.869060</td>\n",
       "      <td>-122.270556</td>\n",
       "      <td>266.0</td>\n",
       "      <td>Parker St at Fulton St</td>\n",
       "      <td>37.862464</td>\n",
       "      <td>...</td>\n",
       "      <td>1797</td>\n",
       "      <td>Subscriber</td>\n",
       "      <td>No</td>\n",
       "      <td>8</td>\n",
       "      <td>1</td>\n",
       "      <td>19</td>\n",
       "      <td>31</td>\n",
       "      <td>Fri</td>\n",
       "      <td>784.166667</td>\n",
       "      <td>0.891040</td>\n",
       "    </tr>\n",
       "    <tr>\n",
       "      <th>2</th>\n",
       "      <td>5912</td>\n",
       "      <td>2019-05-31 23:54:24.089</td>\n",
       "      <td>2019-06-01 01:32:56.982</td>\n",
       "      <td>149.0</td>\n",
       "      <td>Emeryville Town Hall</td>\n",
       "      <td>37.831275</td>\n",
       "      <td>-122.285633</td>\n",
       "      <td>149.0</td>\n",
       "      <td>Emeryville Town Hall</td>\n",
       "      <td>37.831275</td>\n",
       "      <td>...</td>\n",
       "      <td>3612</td>\n",
       "      <td>Customer</td>\n",
       "      <td>No</td>\n",
       "      <td>1</td>\n",
       "      <td>1</td>\n",
       "      <td>23</td>\n",
       "      <td>31</td>\n",
       "      <td>Fri</td>\n",
       "      <td>98.533333</td>\n",
       "      <td>0.000000</td>\n",
       "    </tr>\n",
       "    <tr>\n",
       "      <th>3</th>\n",
       "      <td>2629</td>\n",
       "      <td>2019-05-31 23:59:57.449</td>\n",
       "      <td>2019-06-01 00:43:46.874</td>\n",
       "      <td>186.0</td>\n",
       "      <td>Lakeside Dr at 14th St</td>\n",
       "      <td>37.801319</td>\n",
       "      <td>-122.262642</td>\n",
       "      <td>186.0</td>\n",
       "      <td>Lakeside Dr at 14th St</td>\n",
       "      <td>37.801319</td>\n",
       "      <td>...</td>\n",
       "      <td>2333</td>\n",
       "      <td>Customer</td>\n",
       "      <td>No</td>\n",
       "      <td>0</td>\n",
       "      <td>1</td>\n",
       "      <td>23</td>\n",
       "      <td>31</td>\n",
       "      <td>Fri</td>\n",
       "      <td>43.816667</td>\n",
       "      <td>0.000000</td>\n",
       "    </tr>\n",
       "    <tr>\n",
       "      <th>4</th>\n",
       "      <td>4235</td>\n",
       "      <td>2019-05-31 23:05:48.932</td>\n",
       "      <td>2019-06-01 00:16:24.457</td>\n",
       "      <td>34.0</td>\n",
       "      <td>Father Alfred E Boeddeker Park</td>\n",
       "      <td>37.783988</td>\n",
       "      <td>-122.412408</td>\n",
       "      <td>368.0</td>\n",
       "      <td>Myrtle St at Polk St</td>\n",
       "      <td>37.785434</td>\n",
       "      <td>...</td>\n",
       "      <td>181</td>\n",
       "      <td>Subscriber</td>\n",
       "      <td>No</td>\n",
       "      <td>0</td>\n",
       "      <td>1</td>\n",
       "      <td>23</td>\n",
       "      <td>31</td>\n",
       "      <td>Fri</td>\n",
       "      <td>70.583333</td>\n",
       "      <td>0.654002</td>\n",
       "    </tr>\n",
       "  </tbody>\n",
       "</table>\n",
       "<p>5 rows × 21 columns</p>\n",
       "</div>"
      ],
      "text/plain": [
       "   duration_sec              start_time                end_time  \\\n",
       "0         48877 2019-05-31 20:34:56.811 2019-06-01 10:09:34.796   \n",
       "1         47050 2019-05-31 19:43:56.196 2019-06-01 08:48:06.919   \n",
       "2          5912 2019-05-31 23:54:24.089 2019-06-01 01:32:56.982   \n",
       "3          2629 2019-05-31 23:59:57.449 2019-06-01 00:43:46.874   \n",
       "4          4235 2019-05-31 23:05:48.932 2019-06-01 00:16:24.457   \n",
       "\n",
       "   start_station_id              start_station_name  start_station_latitude  \\\n",
       "0             321.0                5th St at Folsom               37.780146   \n",
       "1             246.0           Berkeley Civic Center               37.869060   \n",
       "2             149.0            Emeryville Town Hall               37.831275   \n",
       "3             186.0          Lakeside Dr at 14th St               37.801319   \n",
       "4              34.0  Father Alfred E Boeddeker Park               37.783988   \n",
       "\n",
       "   start_station_longitude  end_station_id        end_station_name  \\\n",
       "0              -122.403071            60.0    8th St at Ringold St   \n",
       "1              -122.270556           266.0  Parker St at Fulton St   \n",
       "2              -122.285633           149.0    Emeryville Town Hall   \n",
       "3              -122.262642           186.0  Lakeside Dr at 14th St   \n",
       "4              -122.412408           368.0    Myrtle St at Polk St   \n",
       "\n",
       "   end_station_latitude  ...  bike_id   user_type bike_share_for_all_trip  \\\n",
       "0             37.774520  ...     1416    Customer                      No   \n",
       "1             37.862464  ...     1797  Subscriber                      No   \n",
       "2             37.831275  ...     3612    Customer                      No   \n",
       "3             37.801319  ...     2333    Customer                      No   \n",
       "4             37.785434  ...      181  Subscriber                      No   \n",
       "\n",
       "  end_time_hour  end_time_day  start_time_hour  start_time_day  \\\n",
       "0            10             1               20              31   \n",
       "1             8             1               19              31   \n",
       "2             1             1               23              31   \n",
       "3             0             1               23              31   \n",
       "4             0             1               23              31   \n",
       "\n",
       "   start_time_weekday duration_min  distance_km  \n",
       "0                 Fri   814.616667     0.839955  \n",
       "1                 Fri   784.166667     0.891040  \n",
       "2                 Fri    98.533333     0.000000  \n",
       "3                 Fri    43.816667     0.000000  \n",
       "4                 Fri    70.583333     0.654002  \n",
       "\n",
       "[5 rows x 21 columns]"
      ]
     },
     "execution_count": 200,
     "metadata": {},
     "output_type": "execute_result"
    }
   ],
   "source": [
    "df_clean.head()"
   ]
  },
  {
   "cell_type": "markdown",
   "metadata": {},
   "source": [
    "**Define**\n",
    "\n",
    "duration in minutes "
   ]
  },
  {
   "cell_type": "markdown",
   "metadata": {},
   "source": [
    "**Code**"
   ]
  },
  {
   "cell_type": "code",
   "execution_count": 166,
   "metadata": {},
   "outputs": [
    {
     "name": "stderr",
     "output_type": "stream",
     "text": [
      "//anaconda3/lib/python3.7/site-packages/ipykernel_launcher.py:1: SettingWithCopyWarning: \n",
      "A value is trying to be set on a copy of a slice from a DataFrame.\n",
      "Try using .loc[row_indexer,col_indexer] = value instead\n",
      "\n",
      "See the caveats in the documentation: http://pandas.pydata.org/pandas-docs/stable/indexing.html#indexing-view-versus-copy\n",
      "  \"\"\"Entry point for launching an IPython kernel.\n"
     ]
    }
   ],
   "source": [
    "df_clean['duration_min'] = df_clean['duration_sec']/60\n"
   ]
  },
  {
   "cell_type": "markdown",
   "metadata": {},
   "source": [
    "**Test**"
   ]
  },
  {
   "cell_type": "code",
   "execution_count": 167,
   "metadata": {},
   "outputs": [
    {
     "name": "stdout",
     "output_type": "stream",
     "text": [
      "<class 'pandas.core.frame.DataFrame'>\n",
      "Int64Index: 182148 entries, 0 to 182162\n",
      "Data columns (total 20 columns):\n",
      "duration_sec               182148 non-null int64\n",
      "start_time                 182148 non-null datetime64[ns]\n",
      "end_time                   182148 non-null datetime64[ns]\n",
      "start_station_id           182148 non-null float64\n",
      "start_station_name         182148 non-null object\n",
      "start_station_latitude     182148 non-null float64\n",
      "start_station_longitude    182148 non-null float64\n",
      "end_station_id             182148 non-null float64\n",
      "end_station_name           182148 non-null object\n",
      "end_station_latitude       182148 non-null float64\n",
      "end_station_longitude      182148 non-null float64\n",
      "bike_id                    182148 non-null int64\n",
      "user_type                  182148 non-null category\n",
      "bike_share_for_all_trip    182148 non-null category\n",
      "end_time_hour              182148 non-null int64\n",
      "end_time_day               182148 non-null int64\n",
      "start_time_hour            182148 non-null int64\n",
      "start_time_day             182148 non-null int64\n",
      "start_time_weekday         182148 non-null object\n",
      "duration_min               182148 non-null float64\n",
      "dtypes: category(2), datetime64[ns](2), float64(7), int64(6), object(3)\n",
      "memory usage: 26.8+ MB\n"
     ]
    }
   ],
   "source": [
    "df_clean.info()"
   ]
  },
  {
   "cell_type": "code",
   "execution_count": 168,
   "metadata": {},
   "outputs": [
    {
     "data": {
      "text/html": [
       "<div>\n",
       "<style scoped>\n",
       "    .dataframe tbody tr th:only-of-type {\n",
       "        vertical-align: middle;\n",
       "    }\n",
       "\n",
       "    .dataframe tbody tr th {\n",
       "        vertical-align: top;\n",
       "    }\n",
       "\n",
       "    .dataframe thead th {\n",
       "        text-align: right;\n",
       "    }\n",
       "</style>\n",
       "<table border=\"1\" class=\"dataframe\">\n",
       "  <thead>\n",
       "    <tr style=\"text-align: right;\">\n",
       "      <th></th>\n",
       "      <th>duration_sec</th>\n",
       "      <th>start_time</th>\n",
       "      <th>end_time</th>\n",
       "      <th>start_station_id</th>\n",
       "      <th>start_station_name</th>\n",
       "      <th>start_station_latitude</th>\n",
       "      <th>start_station_longitude</th>\n",
       "      <th>end_station_id</th>\n",
       "      <th>end_station_name</th>\n",
       "      <th>end_station_latitude</th>\n",
       "      <th>end_station_longitude</th>\n",
       "      <th>bike_id</th>\n",
       "      <th>user_type</th>\n",
       "      <th>bike_share_for_all_trip</th>\n",
       "      <th>end_time_hour</th>\n",
       "      <th>end_time_day</th>\n",
       "      <th>start_time_hour</th>\n",
       "      <th>start_time_day</th>\n",
       "      <th>start_time_weekday</th>\n",
       "      <th>duration_min</th>\n",
       "    </tr>\n",
       "  </thead>\n",
       "  <tbody>\n",
       "    <tr>\n",
       "      <th>0</th>\n",
       "      <td>48877</td>\n",
       "      <td>2019-05-31 20:34:56.811</td>\n",
       "      <td>2019-06-01 10:09:34.796</td>\n",
       "      <td>321.0</td>\n",
       "      <td>5th St at Folsom</td>\n",
       "      <td>37.780146</td>\n",
       "      <td>-122.403071</td>\n",
       "      <td>60.0</td>\n",
       "      <td>8th St at Ringold St</td>\n",
       "      <td>37.774520</td>\n",
       "      <td>-122.409449</td>\n",
       "      <td>1416</td>\n",
       "      <td>Customer</td>\n",
       "      <td>No</td>\n",
       "      <td>10</td>\n",
       "      <td>1</td>\n",
       "      <td>20</td>\n",
       "      <td>31</td>\n",
       "      <td>Fri</td>\n",
       "      <td>814.616667</td>\n",
       "    </tr>\n",
       "    <tr>\n",
       "      <th>1</th>\n",
       "      <td>47050</td>\n",
       "      <td>2019-05-31 19:43:56.196</td>\n",
       "      <td>2019-06-01 08:48:06.919</td>\n",
       "      <td>246.0</td>\n",
       "      <td>Berkeley Civic Center</td>\n",
       "      <td>37.869060</td>\n",
       "      <td>-122.270556</td>\n",
       "      <td>266.0</td>\n",
       "      <td>Parker St at Fulton St</td>\n",
       "      <td>37.862464</td>\n",
       "      <td>-122.264791</td>\n",
       "      <td>1797</td>\n",
       "      <td>Subscriber</td>\n",
       "      <td>No</td>\n",
       "      <td>8</td>\n",
       "      <td>1</td>\n",
       "      <td>19</td>\n",
       "      <td>31</td>\n",
       "      <td>Fri</td>\n",
       "      <td>784.166667</td>\n",
       "    </tr>\n",
       "    <tr>\n",
       "      <th>2</th>\n",
       "      <td>5912</td>\n",
       "      <td>2019-05-31 23:54:24.089</td>\n",
       "      <td>2019-06-01 01:32:56.982</td>\n",
       "      <td>149.0</td>\n",
       "      <td>Emeryville Town Hall</td>\n",
       "      <td>37.831275</td>\n",
       "      <td>-122.285633</td>\n",
       "      <td>149.0</td>\n",
       "      <td>Emeryville Town Hall</td>\n",
       "      <td>37.831275</td>\n",
       "      <td>-122.285633</td>\n",
       "      <td>3612</td>\n",
       "      <td>Customer</td>\n",
       "      <td>No</td>\n",
       "      <td>1</td>\n",
       "      <td>1</td>\n",
       "      <td>23</td>\n",
       "      <td>31</td>\n",
       "      <td>Fri</td>\n",
       "      <td>98.533333</td>\n",
       "    </tr>\n",
       "    <tr>\n",
       "      <th>3</th>\n",
       "      <td>2629</td>\n",
       "      <td>2019-05-31 23:59:57.449</td>\n",
       "      <td>2019-06-01 00:43:46.874</td>\n",
       "      <td>186.0</td>\n",
       "      <td>Lakeside Dr at 14th St</td>\n",
       "      <td>37.801319</td>\n",
       "      <td>-122.262642</td>\n",
       "      <td>186.0</td>\n",
       "      <td>Lakeside Dr at 14th St</td>\n",
       "      <td>37.801319</td>\n",
       "      <td>-122.262642</td>\n",
       "      <td>2333</td>\n",
       "      <td>Customer</td>\n",
       "      <td>No</td>\n",
       "      <td>0</td>\n",
       "      <td>1</td>\n",
       "      <td>23</td>\n",
       "      <td>31</td>\n",
       "      <td>Fri</td>\n",
       "      <td>43.816667</td>\n",
       "    </tr>\n",
       "    <tr>\n",
       "      <th>4</th>\n",
       "      <td>4235</td>\n",
       "      <td>2019-05-31 23:05:48.932</td>\n",
       "      <td>2019-06-01 00:16:24.457</td>\n",
       "      <td>34.0</td>\n",
       "      <td>Father Alfred E Boeddeker Park</td>\n",
       "      <td>37.783988</td>\n",
       "      <td>-122.412408</td>\n",
       "      <td>368.0</td>\n",
       "      <td>Myrtle St at Polk St</td>\n",
       "      <td>37.785434</td>\n",
       "      <td>-122.419622</td>\n",
       "      <td>181</td>\n",
       "      <td>Subscriber</td>\n",
       "      <td>No</td>\n",
       "      <td>0</td>\n",
       "      <td>1</td>\n",
       "      <td>23</td>\n",
       "      <td>31</td>\n",
       "      <td>Fri</td>\n",
       "      <td>70.583333</td>\n",
       "    </tr>\n",
       "  </tbody>\n",
       "</table>\n",
       "</div>"
      ],
      "text/plain": [
       "   duration_sec              start_time                end_time  \\\n",
       "0         48877 2019-05-31 20:34:56.811 2019-06-01 10:09:34.796   \n",
       "1         47050 2019-05-31 19:43:56.196 2019-06-01 08:48:06.919   \n",
       "2          5912 2019-05-31 23:54:24.089 2019-06-01 01:32:56.982   \n",
       "3          2629 2019-05-31 23:59:57.449 2019-06-01 00:43:46.874   \n",
       "4          4235 2019-05-31 23:05:48.932 2019-06-01 00:16:24.457   \n",
       "\n",
       "   start_station_id              start_station_name  start_station_latitude  \\\n",
       "0             321.0                5th St at Folsom               37.780146   \n",
       "1             246.0           Berkeley Civic Center               37.869060   \n",
       "2             149.0            Emeryville Town Hall               37.831275   \n",
       "3             186.0          Lakeside Dr at 14th St               37.801319   \n",
       "4              34.0  Father Alfred E Boeddeker Park               37.783988   \n",
       "\n",
       "   start_station_longitude  end_station_id        end_station_name  \\\n",
       "0              -122.403071            60.0    8th St at Ringold St   \n",
       "1              -122.270556           266.0  Parker St at Fulton St   \n",
       "2              -122.285633           149.0    Emeryville Town Hall   \n",
       "3              -122.262642           186.0  Lakeside Dr at 14th St   \n",
       "4              -122.412408           368.0    Myrtle St at Polk St   \n",
       "\n",
       "   end_station_latitude  end_station_longitude  bike_id   user_type  \\\n",
       "0             37.774520            -122.409449     1416    Customer   \n",
       "1             37.862464            -122.264791     1797  Subscriber   \n",
       "2             37.831275            -122.285633     3612    Customer   \n",
       "3             37.801319            -122.262642     2333    Customer   \n",
       "4             37.785434            -122.419622      181  Subscriber   \n",
       "\n",
       "  bike_share_for_all_trip  end_time_hour  end_time_day  start_time_hour  \\\n",
       "0                      No             10             1               20   \n",
       "1                      No              8             1               19   \n",
       "2                      No              1             1               23   \n",
       "3                      No              0             1               23   \n",
       "4                      No              0             1               23   \n",
       "\n",
       "   start_time_day start_time_weekday  duration_min  \n",
       "0              31                Fri    814.616667  \n",
       "1              31                Fri    784.166667  \n",
       "2              31                Fri     98.533333  \n",
       "3              31                Fri     43.816667  \n",
       "4              31                Fri     70.583333  "
      ]
     },
     "execution_count": 168,
     "metadata": {},
     "output_type": "execute_result"
    }
   ],
   "source": [
    "df_clean.head()"
   ]
  },
  {
   "cell_type": "code",
   "execution_count": null,
   "metadata": {},
   "outputs": [],
   "source": []
  },
  {
   "cell_type": "code",
   "execution_count": null,
   "metadata": {},
   "outputs": [],
   "source": []
  },
  {
   "cell_type": "code",
   "execution_count": null,
   "metadata": {},
   "outputs": [],
   "source": []
  },
  {
   "cell_type": "markdown",
   "metadata": {},
   "source": [
    "## What is the structure of your dataset?"
   ]
  },
  {
   "cell_type": "markdown",
   "metadata": {},
   "source": [
    "This dataset contains up to 182148 entries about the bike rides at may 2019 ( one month) in the San Francisco Bay Area. The features are: \n",
    "\n",
    "- Trip duration [ trip duration in seconds , start time, end time ] \n",
    "- Stations ( starting station name and ID , end station name and ID  (latitude/longitude)) \n",
    "- User information [ user type (Customer or Subscriber) ]\n",
    "- Bike information [ Bike ID, Bike sharing information ] \n",
    "\n",
    "\n",
    "The fuatures i added are: \n",
    "- Start time weekday \n",
    "- Start time Day \n",
    "- Start time Hour \n",
    "- duration in minuets \n",
    "- Distance\n",
    "\n",
    "\n",
    "\n",
    "\n"
   ]
  },
  {
   "cell_type": "markdown",
   "metadata": {},
   "source": [
    "## What is/are the main feature(s) of interest in your dataset?"
   ]
  },
  {
   "cell_type": "markdown",
   "metadata": {},
   "source": [
    "- trip duration information such as the starting time of the trips and ending time of the trips, trip duration in seconds and minuets, days of the trips \n",
    "\n",
    "- user information where the user is either a subsciber or a customer\n"
   ]
  },
  {
   "cell_type": "markdown",
   "metadata": {},
   "source": [
    "## Univariate Exploration"
   ]
  },
  {
   "cell_type": "code",
   "execution_count": 169,
   "metadata": {},
   "outputs": [
    {
     "data": {
      "text/plain": [
       "<matplotlib.axes._subplots.AxesSubplot at 0x1a2ee79320>"
      ]
     },
     "execution_count": 169,
     "metadata": {},
     "output_type": "execute_result"
    },
    {
     "data": {
      "image/png": "[encoded data removed]",
      "text/plain": [
       "<Figure size 432x288 with 1 Axes>"
      ]
     },
     "metadata": {
      "needs_background": "light"
     },
     "output_type": "display_data"
    }
   ],
   "source": [
    "base_color = sb.color_palette()[0]\n",
    "dayOrder = df_clean['start_time_weekday'].value_counts().index\n",
    "sb.countplot(data = df_clean, x = 'start_time_weekday', color = base_color, order = dayOrder)"
   ]
  },
  {
   "cell_type": "markdown",
   "metadata": {},
   "source": [
    "**Based on this observation bikes rides/rented bikes are more often on thursday, wednsday and friday**"
   ]
  },
  {
   "cell_type": "code",
   "execution_count": 170,
   "metadata": {},
   "outputs": [
    {
     "data": {
      "image/png": "[encoded data removed]",
      "text/plain": [
       "<Figure size 432x288 with 1 Axes>"
      ]
     },
     "metadata": {},
     "output_type": "display_data"
    }
   ],
   "source": [
    "# calculating % split for the user type\n",
    "customer = df_clean.query('user_type == \"Customer\"')['bike_id'].count()\n",
    "subscriber = df_clean.query('user_type == \"Subscriber\"')['bike_id'].count()\n",
    "\n",
    "customer_proportion = customer / df_clean['bike_id'].count()\n",
    "subscriber_proportion = subscriber / df_clean['bike_id'].count()\n",
    "\n",
    "labels = ['Customer', 'Subscriber']\n",
    "sizes = [customer_proportion, subscriber_proportion]\n",
    "colors = ['darkorange', 'steelblue']\n",
    "explode = (0, 0.1)\n",
    "\n",
    "plt.pie(sizes, explode=explode, labels=labels, colors = colors,\n",
    "        autopct='%1.1f%%', shadow=True, startangle=90)\n",
    "plt.axis('equal')\n",
    "\n",
    "plt.suptitle('User type split for GoBike sharing system', y=1.03, fontsize=14, fontweight='semibold');\n",
    "\n"
   ]
  },
  {
   "cell_type": "markdown",
   "metadata": {},
   "source": [
    "**From this observation it is clear that Subscriber are more than customers** "
   ]
  },
  {
   "cell_type": "code",
   "execution_count": 205,
   "metadata": {},
   "outputs": [
    {
     "data": {
      "image/png": "[encoded data removed]",
      "text/plain": [
       "<Figure size 432x288 with 1 Axes>"
      ]
     },
     "metadata": {
      "needs_background": "light"
     },
     "output_type": "display_data"
    }
   ],
   "source": [
    "bin_edges = np.arange(0, 5, 1)\n",
    "\n",
    "plt.hist(data = df_clean, x = 'distance_miles', bins = bin_edges);\n",
    "\n",
    "plt.title(\"Ford GoBike System Trip Distance in Miles\", y=1.05, fontsize=16, fontweight='bold')\n",
    "plt.xlabel('Distance (Miles)')\n",
    "plt.ylabel('Number of Bike Trips');"
   ]
  },
  {
   "cell_type": "code",
   "execution_count": 171,
   "metadata": {},
   "outputs": [
    {
     "data": {
      "image/png": "[encoded data removed]",
      "text/plain": [
       "<Figure size 360x360 with 1 Axes>"
      ]
     },
     "metadata": {
      "needs_background": "light"
     },
     "output_type": "display_data"
    }
   ],
   "source": [
    "g = sb.catplot(data=df_clean, x='start_time_hour', kind='count', color = base_color)\n",
    "g.set_axis_labels(\"Hours\", \"#Bike Trips\")\n",
    "g.fig.suptitle('Hourly usage of the bike share system', y=1.03, fontsize=14, fontweight='semibold');"
   ]
  },
  {
   "cell_type": "markdown",
   "metadata": {},
   "source": [
    "**From this observation we can see that at 8AM/6PM are the buseist hours**"
   ]
  },
  {
   "cell_type": "markdown",
   "metadata": {},
   "source": [
    "**We can see from this observation that people mostly stop at 8AM or 5 pm**"
   ]
  },
  {
   "cell_type": "code",
   "execution_count": 172,
   "metadata": {},
   "outputs": [
    {
     "data": {
      "image/png": "[encoded data removed]",
      "text/plain": [
       "<Figure size 432x288 with 1 Axes>"
      ]
     },
     "metadata": {
      "needs_background": "light"
     },
     "output_type": "display_data"
    }
   ],
   "source": [
    "# Duration of the bike rides - in SECONDS\n",
    "bin_edges = np.arange(0, 3600, 60)\n",
    "\n",
    "plt.hist(data = df_clean, x = 'duration_sec', bins = bin_edges);\n",
    "\n",
    "plt.title(\"Ford GoBike System Trip Duration in Seconds\", y=1.05, fontsize=16, fontweight='bold')\n",
    "plt.xlabel('Duration (Sec)')\n",
    "plt.ylabel('Number of Bike Trips');"
   ]
  },
  {
   "cell_type": "markdown",
   "metadata": {},
   "source": [
    "Trip duration is mostly [500s-1000s] "
   ]
  },
  {
   "cell_type": "code",
   "execution_count": 173,
   "metadata": {},
   "outputs": [
    {
     "data": {
      "image/png": "[encoded data removed]",
      "text/plain": [
       "<Figure size 432x288 with 1 Axes>"
      ]
     },
     "metadata": {
      "needs_background": "light"
     },
     "output_type": "display_data"
    }
   ],
   "source": [
    "# Duration of the bike rides -in MINUTES\n",
    "bin_edges = np.arange(0, 45, 1)\n",
    "ticks = [0, 5, 10, 15, 20, 25, 30,  35, 40, 45]\n",
    "labels = ['{}'.format(val) for val in ticks]\n",
    "\n",
    "plt.hist(data = df_clean, x = 'duration_min', bins = bin_edges, rwidth = 0.6);\n",
    "#sb.distplot(df_cleaned['duration_min'], bins = bin_edges, kde = False, hist_kws = {'alpha' : 1});\n",
    "\n",
    "plt.title(\"Ford GoBike System Trip Duration in Minutes\", y=1.05, fontsize=16, fontweight='bold')\n",
    "plt.xlabel('Duration (Min)')\n",
    "plt.xticks(ticks, labels)\n",
    "plt.ylabel('Number of Bike Trips');\n",
    "\n"
   ]
  },
  {
   "cell_type": "markdown",
   "metadata": {},
   "source": [
    "**Trip duration is mostly 5 to 10 minuets**"
   ]
  },
  {
   "cell_type": "markdown",
   "metadata": {},
   "source": [
    "**observations**"
   ]
  },
  {
   "cell_type": "markdown",
   "metadata": {},
   "source": [
    "Most bike rides are on Friday, Thursday and Wednesday, subscribers are more than customers and most of the bike rides are less than 1 mile, most bike rides are on 8AM and 5 Pm and trip durations are mostly up to 500 -1000 seconds which is approximately 5-10 minutes "
   ]
  },
  {
   "cell_type": "markdown",
   "metadata": {},
   "source": [
    "## Discuss the distribution(s) of your variable(s) of interest. Were there any unusual points? Did you need to perform any transformations?"
   ]
  },
  {
   "cell_type": "markdown",
   "metadata": {},
   "source": [
    "Thankfully the dataset is clean and noting seemed to be out of the ordinary however the duration may have taken a little effort but i set the max range to 3600 = 60 Min"
   ]
  },
  {
   "cell_type": "markdown",
   "metadata": {},
   "source": [
    "## Of the features you investigated, were there any unusual distributions? Did you perform any operations on the data to tidy, adjust, or change the form of the data? If so, why did you do this?"
   ]
  },
  {
   "cell_type": "markdown",
   "metadata": {},
   "source": [
    "There was nothing unusal in the dataset so i didn't adjust anything"
   ]
  },
  {
   "cell_type": "markdown",
   "metadata": {},
   "source": [
    "# Bivariate Exploration "
   ]
  },
  {
   "cell_type": "code",
   "execution_count": 174,
   "metadata": {},
   "outputs": [
    {
     "data": {
      "image/png": "[encoded data removed]",
      "text/plain": [
       "<Figure size 1440x1440 with 1 Axes>"
      ]
     },
     "metadata": {
      "needs_background": "light"
     },
     "output_type": "display_data"
    }
   ],
   "source": [
    "plt.figure(figsize = [20, 20]);\n",
    "\n",
    "\n",
    "plt.subplot(6, 1, 1);\n",
    "sb.countplot(data = df_clean, x = 'start_time_hour', hue = 'start_time_weekday', palette = 'Blues');"
   ]
  },
  {
   "cell_type": "code",
   "execution_count": 175,
   "metadata": {},
   "outputs": [
    {
     "data": {
      "image/png": "[encoded data removed]",
      "text/plain": [
       "<Figure size 1440x1440 with 1 Axes>"
      ]
     },
     "metadata": {
      "needs_background": "light"
     },
     "output_type": "display_data"
    }
   ],
   "source": [
    "plt.figure(figsize = [20, 20]);\n",
    "ax = plt.subplot(6, 1, 4);\n",
    "sb.countplot(data = df_clean, x = 'start_time_weekday', hue = 'user_type', palette = 'Greens');"
   ]
  },
  {
   "cell_type": "code",
   "execution_count": 176,
   "metadata": {},
   "outputs": [
    {
     "data": {
      "image/png": "[encoded data removed]",
      "text/plain": [
       "<Figure size 1440x1440 with 1 Axes>"
      ]
     },
     "metadata": {
      "needs_background": "light"
     },
     "output_type": "display_data"
    }
   ],
   "source": [
    "plt.figure(figsize = [20, 20]);\n",
    "ax = plt.subplot(6, 1, 4);\n",
    "sb.countplot(data = df_clean, x = 'start_time_hour', hue = 'user_type', palette = 'Reds');"
   ]
  },
  {
   "cell_type": "code",
   "execution_count": 213,
   "metadata": {},
   "outputs": [
    {
     "data": {
      "image/png": "[encoded data removed]",
      "text/plain": [
       "<Figure size 864x576 with 1 Axes>"
      ]
     },
     "metadata": {
      "needs_background": "light"
     },
     "output_type": "display_data"
    }
   ],
   "source": [
    "plt = df_clean.groupby('user_type')['distance_miles'].mean().plot(kind='barh', figsize=(12,8));\n",
    "\n",
    "plt.set_title('Ford Go Bike System Average Distance (Miles) by User Type', y=1.05, fontsize=16, fontweight='bold')\n",
    "plt.set_xlabel('User Type')\n",
    "plt.set_ylabel('Average Distance Traveled (Miles)');"
   ]
  },
  {
   "cell_type": "code",
   "execution_count": 253,
   "metadata": {},
   "outputs": [
    {
     "data": {
      "image/png": "[encoded data removed]",
      "text/plain": [
       "<Figure size 720x360 with 2 Axes>"
      ]
     },
     "metadata": {
      "needs_background": "light"
     },
     "output_type": "display_data"
    }
   ],
   "source": [
    "# daily usege of the bike sharing system per user type\n",
    "g = sb.catplot(data=df_clean, x='start_time_weekday', col=\"user_type\", kind='count', sharey = False,\n",
    "            color = base_color)\n",
    "g.set_axis_labels(\"Day\", \"#Bike Trips\")\n",
    "g.set_titles(\"{col_name}\")\n",
    "g.fig.suptitle('Daily usage of the bike share system per user type', y=1.03, fontsize=14, fontweight='semibold');"
   ]
  },
  {
   "cell_type": "code",
   "execution_count": 178,
   "metadata": {},
   "outputs": [
    {
     "name": "stderr",
     "output_type": "stream",
     "text": [
      "//anaconda3/lib/python3.7/site-packages/seaborn/axisgrid.py:230: UserWarning: The `size` paramter has been renamed to `height`; please update your code.\n",
      "  warnings.warn(msg, UserWarning)\n"
     ]
    },
    {
     "data": {
      "image/png": "[encoded data removed]",
      "text/plain": [
       "<Figure size 720x360 with 2 Axes>"
      ]
     },
     "metadata": {
      "needs_background": "light"
     },
     "output_type": "display_data"
    }
   ],
   "source": [
    "g = sb.FacetGrid(df_clean, col=\"user_type\", margin_titles=True, size=5)\n",
    "bin_edges = np.arange(0, 3600,60)\n",
    "g.map(plt.hist, \"duration_sec\", color=base_color, bins=bin_edges)\n",
    "g.set_axis_labels(\"Duration (sec)\", \"#Bike Trips\")\n",
    "g.set_titles(col_template = '{col_name}')\n",
    "g.fig.suptitle('Trip duration (sec) histogram per user type', y=1.03, fontsize=14, fontweight='semibold');"
   ]
  },
  {
   "cell_type": "code",
   "execution_count": 179,
   "metadata": {},
   "outputs": [
    {
     "data": {
      "image/png": "[encoded data removed]",
      "text/plain": [
       "<Figure size 720x360 with 2 Axes>"
      ]
     },
     "metadata": {
      "needs_background": "light"
     },
     "output_type": "display_data"
    }
   ],
   "source": [
    "data = df_clean.query('duration_sec < 3600')\n",
    "g = sb.catplot(data=data, y='duration_min', col=\"user_type\", kind='box',\n",
    "            color = base_color)\n",
    "g.set_titles(col_template = '{col_name}')\n",
    "g.set_axis_labels(\"\", \"Trip duration (min)\")\n",
    "g.fig.suptitle('Trip duration (sec) boxplot per user type', y=1.03, fontsize=14, fontweight='semibold');\n"
   ]
  },
  {
   "cell_type": "code",
   "execution_count": 220,
   "metadata": {},
   "outputs": [
    {
     "data": {
      "text/plain": [
       "count    182148.000000\n",
       "mean          1.027514\n",
       "std           0.652802\n",
       "min           0.000000\n",
       "25%           0.566708\n",
       "50%           0.878337\n",
       "75%           1.349328\n",
       "max          41.298652\n",
       "Name: distance_miles, dtype: float64"
      ]
     },
     "execution_count": 220,
     "metadata": {},
     "output_type": "execute_result"
    }
   ],
   "source": [
    "df_clean['distance_miles'].describe()"
   ]
  },
  {
   "cell_type": "code",
   "execution_count": 231,
   "metadata": {},
   "outputs": [
    {
     "data": {
      "image/png": "[encoded data removed]",
      "text/plain": [
       "<Figure size 720x360 with 2 Axes>"
      ]
     },
     "metadata": {
      "needs_background": "light"
     },
     "output_type": "display_data"
    }
   ],
   "source": [
    "data = df_clean.query('distance_miles < 5')\n",
    "g = sb.catplot(data=data, y='distance_miles', col=\"user_type\", kind='box',\n",
    "            color = base_color)\n",
    "g.set_titles(col_template = '{col_name}')\n",
    "g.set_axis_labels(\"\", \"Distance (miles)\")\n",
    "g.fig.suptitle('Trip Distance (miles) boxplot per user type', y=1.03, fontsize=14, fontweight='semibold');"
   ]
  },
  {
   "cell_type": "markdown",
   "metadata": {},
   "source": [
    "**Observations**"
   ]
  },
  {
   "cell_type": "markdown",
   "metadata": {},
   "source": [
    "We already established that most bike rides are on Friday, Thursday and Wednesday and the majority start at 8AM or 6PM but from these observations we can indicate on each day’s trips hours such as: on Thursday the bike rides on 8AM are more frequent than any other time while on Thursday and Wednesday bike rides are almost equal at 6PM. Customers seem to have regular patterns except that bike rides on Friday are more frequent than other days. On the other hand subscribers are more active everyday other than Saturday and Sunday. Even though customers are far less than subscribers in numbers but the distance traveled by customers are a bit higher than subscribers. \n",
    "Customers trip durations are larger than subscribers’."
   ]
  },
  {
   "cell_type": "markdown",
   "metadata": {},
   "source": [
    "# Talk about some of the relationships you observed in this part of the investigation. How did the feature(s) of interest vary with other features in the dataset?"
   ]
  },
  {
   "cell_type": "markdown",
   "metadata": {},
   "source": [
    "Since the dataset only contains information about bike ride on may, adding the user type to the analysis showed similar behavior pattern between customers and subscribers since they both use the bikes mostly on Friday, Wednesday and Thursday approximately at similar times such as 8AM or 5Pm, maybe if the dataset contained information about bike rides during the year (different months) we would’ve been able to distinguish different behaviors between customers and subscribers"
   ]
  },
  {
   "cell_type": "markdown",
   "metadata": {},
   "source": [
    "# Did you observe any interesting relationships between the other features (not the main feature(s) of interest)?"
   ]
  },
  {
   "cell_type": "markdown",
   "metadata": {},
   "source": [
    "Customers trips duration and distance are greater than the subscribers even though Customers are much less than subscribers in numbers"
   ]
  },
  {
   "cell_type": "markdown",
   "metadata": {},
   "source": [
    "# Multivariate Exploration"
   ]
  },
  {
   "cell_type": "code",
   "execution_count": 180,
   "metadata": {},
   "outputs": [
    {
     "data": {
      "image/png": "[encoded data removed]",
      "text/plain": [
       "<Figure size 720x360 with 1 Axes>"
      ]
     },
     "metadata": {
      "needs_background": "light"
     },
     "output_type": "display_data"
    }
   ],
   "source": [
    "plt.figure(figsize = [10, 5])\n",
    "\n",
    "# code for the bar chart\n",
    "plt.subplot(1, 2, 1)\n",
    "\n",
    "g = sb.countplot(data=df_clean, x=\"user_type\", hue=\"bike_share_for_all_trip\", order=df_clean.user_type.value_counts().index)\n",
    "g.set_xlabel('User Type')\n",
    "g.set_ylabel('#Bike Trips');\n",
    "\n"
   ]
  },
  {
   "cell_type": "code",
   "execution_count": 209,
   "metadata": {},
   "outputs": [
    {
     "data": {
      "image/png": "[encoded data removed]",
      "text/plain": [
       "<Figure size 839.75x360 with 2 Axes>"
      ]
     },
     "metadata": {
      "needs_background": "light"
     },
     "output_type": "display_data"
    }
   ],
   "source": [
    "# daily usege of the bike sharing system per user type and gender\n",
    "\n",
    "g = sb.catplot(data=df_clean, x='start_time_weekday', col=\"user_type\", hue=\"bike_share_for_all_trip\", kind='count', sharey = False)\n",
    "g.set_axis_labels(\"Day\", \"#Bike Trips\")\n",
    "g._legend.set_title('Bike sharing')\n",
    "g.set_titles(\"{col_name}\")\n",
    "g.fig.suptitle('Daily usage of the bike share system per user type Bike sharing type', y=1.03, fontsize=14, fontweight='semibold');"
   ]
  },
  {
   "cell_type": "code",
   "execution_count": 249,
   "metadata": {},
   "outputs": [
    {
     "data": {
      "image/png": "[encoded data removed]",
      "text/plain": [
       "<Figure size 839.75x360 with 2 Axes>"
      ]
     },
     "metadata": {
      "needs_background": "light"
     },
     "output_type": "display_data"
    }
   ],
   "source": [
    "# hourly usege of the bike sharing system per user type and gender\n",
    "\n",
    "g = sb.catplot(data=df_clean, x='start_time_hour', col=\"user_type\", hue=\"bike_share_for_all_trip\", kind='count', sharey = False)\n",
    "g.set_axis_labels(\"Hours\", \"#Bike Trips\")\n",
    "g._legend.set_title('Bike sharing')\n",
    "g.set_titles(\"{col_name}\")\n",
    "g.fig.suptitle('Hourly usage of the bike share system per user type Bike sharing type', y=1.03, fontsize=14, fontweight='semibold');"
   ]
  },
  {
   "cell_type": "code",
   "execution_count": 248,
   "metadata": {},
   "outputs": [
    {
     "name": "stderr",
     "output_type": "stream",
     "text": [
      "//anaconda3/lib/python3.7/site-packages/ipykernel_launcher.py:6: SettingWithCopyWarning: \n",
      "A value is trying to be set on a copy of a slice from a DataFrame.\n",
      "Try using .loc[row_indexer,col_indexer] = value instead\n",
      "\n",
      "See the caveats in the documentation: http://pandas.pydata.org/pandas-docs/stable/indexing.html#indexing-view-versus-copy\n",
      "  \n"
     ]
    },
    {
     "data": {
      "image/png": "[encoded data removed]",
      "text/plain": [
       "<Figure size 648x576 with 4 Axes>"
      ]
     },
     "metadata": {
      "needs_background": "light"
     },
     "output_type": "display_data"
    }
   ],
   "source": [
    "from matplotlib import *\n",
    "import sys\n",
    "import pylab as pl\n",
    "df_clean['start_time_weekday'] = pd.Categorical(df_clean['start_time_weekday'], \n",
    "                                                categories=['Mon','Tue','Wed','Thu','Fri','Sat', 'Sun'], \n",
    "                                                ordered=True)\n",
    "plt.figure(figsize=(9,8))\n",
    "plt.suptitle('Hourly usage during the weekday for customers and subscribers', fontsize=14, fontweight='semibold')\n",
    "\n",
    "# heatmap for customers\n",
    "plt.subplot(1, 2, 1)\n",
    "df_customer = df_clean.query('user_type == \"Customer\"').groupby([\"start_time_hour\", \"start_time_weekday\"])[\"bike_id\"].size().reset_index()\n",
    "df_customer = df_customer.pivot(\"start_time_hour\", \"start_time_weekday\", \"bike_id\")\n",
    "sb.heatmap(df_customer, cmap=\"BuPu\")\n",
    "\n",
    "plt.title(\"Customer\", y=1.015)\n",
    "plt.xlabel('Weekday')\n",
    "plt.ylabel('Start Time Hour')\n",
    "\n",
    "# heatmap for subscribers\n",
    "plt.subplot(1, 2, 2)\n",
    "df_subscriber = df_clean.query('user_type == \"Subscriber\"').groupby([\"start_time_hour\", \"start_time_weekday\"])[\"bike_id\"].size().reset_index()\n",
    "df_subscriber = df_subscriber.pivot(\"start_time_hour\", \"start_time_weekday\", \"bike_id\")\n",
    "sb.heatmap(df_subscriber, cmap=\"BuPu\")\n",
    "\n",
    "plt.title(\"Subscriber\", y=1.015)\n",
    "plt.xlabel('Weekday')\n",
    "plt.ylabel('');\n",
    "\n"
   ]
  },
  {
   "cell_type": "code",
   "execution_count": 251,
   "metadata": {},
   "outputs": [],
   "source": [
    "df_clean.to_csv('201905-baywheels-tripdataMaster.csv')"
   ]
  },
  {
   "cell_type": "markdown",
   "metadata": {},
   "source": [
    "**observations**"
   ]
  },
  {
   "cell_type": "markdown",
   "metadata": {},
   "source": [
    "Customers don’t share their bikes and a few of the subscribers do, subscribers who share their bikes are also very active during Friday, Thursday and Wednesday. And we can clearly see that customers bike ride duration is greater than subscribers’. "
   ]
  },
  {
   "cell_type": "markdown",
   "metadata": {},
   "source": [
    "## Talk about some of the relationships you observed in this part of the investigation. Were there features that strengthened each other in terms of looking at your feature(s) of interest?"
   ]
  },
  {
   "cell_type": "markdown",
   "metadata": {},
   "source": [
    "analyzing user types and  daily trips and hours showed an interesting pattern where there was a clear difference between subscribers and customers which wasn’t clear in the previous observations such as indicating which day and which hour each user is active. and it was clear that  the majority of the users don’t share bikes. "
   ]
  },
  {
   "cell_type": "markdown",
   "metadata": {},
   "source": [
    "## Were there any interesting or surprising interactions between features?"
   ]
  },
  {
   "cell_type": "markdown",
   "metadata": {},
   "source": [
    "Nothing out of the ordinary since but the the obervations were clearer in this part."
   ]
  },
  {
   "cell_type": "markdown",
   "metadata": {},
   "source": [
    "## Summary"
   ]
  },
  {
   "cell_type": "markdown",
   "metadata": {},
   "source": [
    "This Dataset contains information about bike rides during may 2019, and by analyzing the data I found out that most of the bike rides we on Friday, Thursday and Wednesday it was slightly different for customers and subscribers where  subscribers are more active everyday other than Saturday and Sunday while customers are seem to have regular patterns except that bike rides on Friday are more frequent than other days. Most of the bike rides are done on 8AM or 6PM and I found out that customers rides are usually longer and travel longer distances than subscribers.\n"
   ]
  },
  {
   "cell_type": "code",
   "execution_count": null,
   "metadata": {},
   "outputs": [],
   "source": []
  }
 ],
 "metadata": {
  "kernelspec": {
   "display_name": "Python 3",
   "language": "python",
   "name": "python3"
  },
  "language_info": {
   "codemirror_mode": {
    "name": "ipython",
    "version": 3
   },
   "file_extension": ".py",
   "mimetype": "text/x-python",
   "name": "python",
   "nbconvert_exporter": "python",
   "pygments_lexer": "ipython3",
   "version": "3.7.3"
  }
 },
 "nbformat": 4,
 "nbformat_minor": 2
}
